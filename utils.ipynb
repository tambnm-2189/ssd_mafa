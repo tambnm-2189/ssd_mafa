{
 "cells": [
  {
   "cell_type": "code",
   "execution_count": 2,
   "metadata": {},
   "outputs": [
    {
     "name": "stderr",
     "output_type": "stream",
     "text": [
      "Using TensorFlow backend.\n"
     ]
    }
   ],
   "source": [
    "import numpy as np\n",
    "import matplotlib.pyplot as plt\n",
    "import matplotlib.patches as patches\n",
    "import os\n",
    "import cv2\n",
    "from scipy.io import loadmat\n",
    "import keras.utils"
   ]
  },
  {
   "cell_type": "code",
   "execution_count": 3,
   "metadata": {},
   "outputs": [],
   "source": [
    "def convert_coords(bb, kind):\n",
    "    \"\"\"kind : between centroids, corners and topleft\n",
    "       bb: in numpy array\"\"\"\n",
    "    if kind == 'centroids_to_corners':\n",
    "        x, y, w, h = bb\n",
    "        bb1 = np.array([x - w/2, y - h/2, x + w/2, y + h/2])\n",
    "    \n",
    "    elif kind == 'corners_to_centroids':\n",
    "        xmin, ymin, xmax, ymax = bb\n",
    "        bb1 = np.array([(xmin + xmax)/2, (ymin + ymax)/2, xmax - xmin, ymax - ymin])\n",
    "    \n",
    "    elif kind == 'centroids_to_topleft':\n",
    "        x, y, w, h = bb\n",
    "        bb1 = np.array([x - w/2, y - h/2, w, h])\n",
    "    \n",
    "    elif kind == 'topleft_to_centroids':\n",
    "        xmin, ymin, w, h = bb\n",
    "        bb1 = np.array([xmin + w/2, ymin + h/2, w, h])\n",
    "    \n",
    "    elif kind == 'topleft_to_corners':\n",
    "        xmin, ymin, w, h = bb\n",
    "        bb1 = np.array([xmin , ymin , xmin + w, ymin + h])\n",
    "    \n",
    "    elif kind == 'corners_to_topleft':\n",
    "        xmin, ymin, xmax, ymax = bb\n",
    "        bb1 = np.array([xmin, ymin, xmax - xmin, ymax - ymin])\n",
    "    \n",
    "    else: raise ValueError('kind is not supported')\n",
    "    \n",
    "    assert not np.min(bb1) < 0, 'value of an bb can be smaller than 0' \n",
    "    return bb1"
   ]
  },
  {
   "cell_type": "code",
   "execution_count": 4,
   "metadata": {},
   "outputs": [
    {
     "name": "stdout",
     "output_type": "stream",
     "text": [
      "topleft_to_corners\n",
      "[0 0 2 2]\n",
      "centroids_to_corners\n"
     ]
    },
    {
     "ename": "AssertionError",
     "evalue": "value of an bb can be smaller than 0",
     "output_type": "error",
     "traceback": [
      "\u001b[0;31m---------------------------------------------------------------------------\u001b[0m",
      "\u001b[0;31mAssertionError\u001b[0m                            Traceback (most recent call last)",
      "\u001b[0;32m<ipython-input-4-17cc37acc8a8>\u001b[0m in \u001b[0;36m<module>\u001b[0;34m\u001b[0m\n\u001b[1;32m      4\u001b[0m \u001b[0mprint\u001b[0m\u001b[0;34m(\u001b[0m\u001b[0mconvert_coords\u001b[0m\u001b[0;34m(\u001b[0m\u001b[0mbb\u001b[0m\u001b[0;34m,\u001b[0m \u001b[0mkind\u001b[0m\u001b[0;34m=\u001b[0m \u001b[0;34m'topleft_to_corners'\u001b[0m\u001b[0;34m)\u001b[0m\u001b[0;34m)\u001b[0m\u001b[0;34m\u001b[0m\u001b[0;34m\u001b[0m\u001b[0m\n\u001b[1;32m      5\u001b[0m \u001b[0mprint\u001b[0m\u001b[0;34m(\u001b[0m\u001b[0;34m'centroids_to_corners'\u001b[0m\u001b[0;34m)\u001b[0m\u001b[0;34m\u001b[0m\u001b[0;34m\u001b[0m\u001b[0m\n\u001b[0;32m----> 6\u001b[0;31m \u001b[0mprint\u001b[0m\u001b[0;34m(\u001b[0m\u001b[0mconvert_coords\u001b[0m\u001b[0;34m(\u001b[0m\u001b[0mbb\u001b[0m\u001b[0;34m,\u001b[0m \u001b[0mkind\u001b[0m\u001b[0;34m=\u001b[0m \u001b[0;34m'centroids_to_corners'\u001b[0m\u001b[0;34m)\u001b[0m\u001b[0;34m)\u001b[0m\u001b[0;34m\u001b[0m\u001b[0;34m\u001b[0m\u001b[0m\n\u001b[0m",
      "\u001b[0;32m<ipython-input-3-82d8ff020cbc>\u001b[0m in \u001b[0;36mconvert_coords\u001b[0;34m(bb, kind)\u001b[0m\n\u001b[1;32m     28\u001b[0m     \u001b[0;32melse\u001b[0m\u001b[0;34m:\u001b[0m \u001b[0;32mraise\u001b[0m \u001b[0mValueError\u001b[0m\u001b[0;34m(\u001b[0m\u001b[0;34m'kind is not supported'\u001b[0m\u001b[0;34m)\u001b[0m\u001b[0;34m\u001b[0m\u001b[0;34m\u001b[0m\u001b[0m\n\u001b[1;32m     29\u001b[0m \u001b[0;34m\u001b[0m\u001b[0m\n\u001b[0;32m---> 30\u001b[0;31m     \u001b[0;32massert\u001b[0m \u001b[0;32mnot\u001b[0m \u001b[0mnp\u001b[0m\u001b[0;34m.\u001b[0m\u001b[0mmin\u001b[0m\u001b[0;34m(\u001b[0m\u001b[0mbb1\u001b[0m\u001b[0;34m)\u001b[0m \u001b[0;34m<\u001b[0m \u001b[0;36m0\u001b[0m\u001b[0;34m,\u001b[0m \u001b[0;34m'value of an bb can be smaller than 0'\u001b[0m\u001b[0;34m\u001b[0m\u001b[0;34m\u001b[0m\u001b[0m\n\u001b[0m\u001b[1;32m     31\u001b[0m     \u001b[0;32mreturn\u001b[0m \u001b[0mbb1\u001b[0m\u001b[0;34m\u001b[0m\u001b[0;34m\u001b[0m\u001b[0m\n",
      "\u001b[0;31mAssertionError\u001b[0m: value of an bb can be smaller than 0"
     ]
    }
   ],
   "source": [
    "### test code\n",
    "bb = np.array([0, 0, 2, 2])\n",
    "print('topleft_to_corners')\n",
    "print(convert_coords(bb, kind= 'topleft_to_corners'))\n",
    "print('centroids_to_corners')\n",
    "print(convert_coords(bb, kind= 'centroids_to_corners'))"
   ]
  },
  {
   "cell_type": "code",
   "execution_count": 5,
   "metadata": {},
   "outputs": [],
   "source": [
    "def convert_type(bb, kind, image_shape):\n",
    "    \"\"\"bb is an array of any form centroids, corners, topleft\n",
    "       kind: between absolute pixel values or relative in range [0, 1]\"\"\"\n",
    "    w, h = image_shape\n",
    "    \n",
    "    if kind == 'abs2rel':\n",
    "        return np.array([bb[0]/w, bb[1]/h, bb[2]/w, bb[3]/h])\n",
    "    elif kind == 'rel2abs':\n",
    "        return np.array([bb[0]*w, bb[1]*h, bb[2]*w, bb[3]*h])\n",
    "    else: raise ValueError('your kind is not supported')"
   ]
  },
  {
   "cell_type": "code",
   "execution_count": 6,
   "metadata": {},
   "outputs": [
    {
     "name": "stdout",
     "output_type": "stream",
     "text": [
      "relative : [0.25  0.375 0.5   0.625]\n",
      "absolute : [2. 3. 4. 5.]\n"
     ]
    }
   ],
   "source": [
    "##test code\n",
    "image_shape = (8, 8)\n",
    "bb = np.array([2,3, 4, 5])\n",
    "a = convert_types(bb, kind = 'abs2rel', image_shape = image_shape) \n",
    "print('relative : {}'.format(a))\n",
    "a = convert_types(a, kind = 'rel2abs', image_shape = image_shape) \n",
    "print('absolute : {}'.format(a))"
   ]
  },
  {
   "cell_type": "code",
   "execution_count": null,
   "metadata": {},
   "outputs": [],
   "source": []
  },
  {
   "cell_type": "code",
   "execution_count": null,
   "metadata": {},
   "outputs": [],
   "source": []
  }
 ],
 "metadata": {
  "kernelspec": {
   "display_name": "Python 3",
   "language": "python",
   "name": "python3"
  },
  "language_info": {
   "codemirror_mode": {
    "name": "ipython",
    "version": 3
   },
   "file_extension": ".py",
   "mimetype": "text/x-python",
   "name": "python",
   "nbconvert_exporter": "python",
   "pygments_lexer": "ipython3",
   "version": "3.6.9"
  }
 },
 "nbformat": 4,
 "nbformat_minor": 4
}
