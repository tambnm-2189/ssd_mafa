{
 "cells": [
  {
   "cell_type": "code",
   "execution_count": 2,
   "metadata": {
    "scrolled": false
   },
   "outputs": [],
   "source": [
    "import numpy as np\n",
    "import matplotlib.pyplot as plt\n",
    "import matplotlib.patches as patches\n",
    "import os\n",
    "import cv2\n",
    "from scipy.io import loadmat\n",
    "import keras.utils\n",
    "import tensorflow as tf"
   ]
  },
  {
   "cell_type": "markdown",
   "metadata": {},
   "source": [
    "# Prediction"
   ]
  },
  {
   "cell_type": "code",
   "execution_count": 92,
   "metadata": {},
   "outputs": [],
   "source": [
    "def prediction(y_pred, score_threshold, iou_threshold, top_k_boxes):\n",
    "    \"\"\"y_pred (b, total_boxes, 2 + 4 + 8)\n",
    "    \n",
    "    ## labels of y_pred\n",
    "    0:bg, 1:face, \n",
    "    2: offset_x, 3: offset_y, 4: offset_w, 5: offset_h,\n",
    "    6: anchor_x, 7: anchor_y, 8:anchor_w, 9:anchor_h, \n",
    "    -4: variance_x, -3, variance_y, -2, variance_w, -1:variance_h\n",
    "    \n",
    "    2: cls, 4: offset prediction, 8 : 4 anchor boxes coords in centroids, 4 variance\n",
    "    return (b, top_k, 4)\n",
    "    \"\"\"\n",
    "    # convert y_pred boxes offset to centroids\n",
    "    cx_pred = y_pred[..., 2]*y_pred[...,-4]*y_pred[...,8] + y_pred[..., 6]\n",
    "    cy_pred = y_pred[..., 3]*y_pred[...,-3]*y_pred[...,9] + y_pred[..., 7]\n",
    "    w_pred = tf.math.exp(y_pred[..., 4]*y_pred[...,-2])*y_pred[...,8] \n",
    "    h_pred = tf.math.exp(y_pred[..., 5]*y_pred[...,-1])*y_pred[...,9]\n",
    "    \n",
    "    # convert centroids to (ymin, xmin, ymax, xmax)\n",
    "    xmin = tf.expand_dims(cx_pred - w_pred/2, axis= -1)\n",
    "    ymin = tf.expand_dims(cy_pred - h_pred/2, axis= -1)\n",
    "    xmax = tf.expand_dims(cx_pred + w_pred/2, axis= -1)\n",
    "    ymax = tf.expand_dims(cy_pred + h_pred/2, axis= -1)\n",
    "    \n",
    "    all_boxes = tf.concat([ymin, xmin, ymax, xmax], axis= -1)\n",
    "    \n",
    "    #nms for each image\n",
    "    def nms(boxes):\n",
    "        pad_indices = tf.image.non_max_suppression(boxes= boxes, \n",
    "                                    scores= y_pred[...,1], \n",
    "                                    max_output_size = top_k_boxes, \n",
    "                                    iou_threshold = iou_threshold, \n",
    "                                    score_threshold = score_threshold) \n",
    "        \n",
    "        selected_boxes = tf.gather(boxes, selected_indices) #(n_boxes, 4)\n",
    "        #padding \n",
    "        paddings = tf.constant([[0, top_k_boxes - len(pad_indices)],[0, 0]])\n",
    "        return tf.pad(selected_boxes, paddings, \"CONSTANT\")\n",
    "    \n",
    "    \n",
    "    return tf.map_fn(fn=lambda i: nms(i),\n",
    "            elems=all_boxes,\n",
    "            dtype=None,\n",
    "            parallel_iterations=128,\n",
    "            back_prop=False,\n",
    "            swap_memory=False,\n",
    "            infer_shape=True)"
   ]
  },
  {
   "cell_type": "code",
   "execution_count": 93,
   "metadata": {},
   "outputs": [
    {
     "data": {
      "text/plain": [
       "NonMaxSuppressionV4(selected_indices=<tf.Tensor: shape=(3,), dtype=int32, numpy=array([0, 2, 0], dtype=int32)>, valid_outputs=<tf.Tensor: shape=(), dtype=int32, numpy=2>)"
      ]
     },
     "execution_count": 93,
     "metadata": {},
     "output_type": "execute_result"
    }
   ],
   "source": [
    "#test my code\n",
    "boxes = tf.constant([\n",
    "    [0, 0,2, 2],\n",
    "    [1, 1,2, 2],\n",
    "    [0, 1, 2, 3]\n",
    "], dtype='float32')\n",
    "scores = tf.constant([0.7, 0.1, 0.6])\n",
    "iou_threshold = 0.5\n",
    "max_output_size = 3\n",
    "score_threshold = 0.5\n",
    "pad_to_max_output_size = True\n",
    "\n",
    "tf.image.non_max_suppression_padded(boxes, scores, max_output_size, \n",
    "                                    iou_threshold, score_threshold, pad_to_max_output_size)"
   ]
  },
  {
   "cell_type": "markdown",
   "metadata": {},
   "source": [
    "# Loss"
   ]
  },
  {
   "cell_type": "code",
   "execution_count": 54,
   "metadata": {},
   "outputs": [],
   "source": [
    "class LossSSD():\n",
    "    def __init__(self, alpha = 1):\n",
    "        self.alpha = 1\n",
    "        \n",
    "    def smooth_l1_loss(self, y_true, y_pred ):\n",
    "        \"\"\"(b, total_boxes, 4)\"\"\"\n",
    "        abs_loss = tf.abs(y_true - y_pred)\n",
    "        square_loss = 0.5*(tf.square(y_true - y_pred))\n",
    "        difference = tf.where(abs_loss < 1, square_loss, abs_loss - 0.5)\n",
    "        return tf.reduce_sum(difference, axis= -1)\n",
    "        \n",
    "    def cross_entropy_loss(self, y_true, y_pred):\n",
    "        y_pred = tf.maximum(1e-7, y_pred)\n",
    "        return -tf.reduce_sum(y_true*tf.math.log(y_pred),axis= -1)\n",
    "\n",
    "\n",
    "    def compute_loss(self, y_true, y_pred):\n",
    "        \"\"\"y_true, y_pred (b, total_boxes, 2 + 4)\n",
    "            alpha: coeffienct weight between red_loss and cls_loss\"\"\"\n",
    "\n",
    "        # calculate reg_loss, cls_loss (b, total_boxes)\n",
    "        cls_loss = self.cross_entropy_loss(y_true[...,:2], y_pred[...,:2])\n",
    "        reg_loss = self.smooth_l1_loss(y_true[...,2:], y_pred[...,2:])\n",
    "\n",
    "        #recompute reg_loss that only account for pos_true_boxes\n",
    "        pos_mask = y_true[..., 1] #(b, total_boxes)\n",
    "        reg_loss *= pos_mask\n",
    "        n_pos_box = tf.maximum(tf.reduce_sum(pos_mask, axis= -1), 1e-7)\n",
    "        reg_loss = tf.reduce_sum(reg_loss, axis= -1)/n_pos_box\n",
    "        reg_loss = tf.reduce_mean(reg_loss)\n",
    "\n",
    "        #recompute cls_loss that only accounts for neg and pos true label\n",
    "        non_neutral_mask = tf.reduce_sum(y_true[..., :2], axis= -1)\n",
    "        cls_loss *= non_neutral_mask\n",
    "        n_non_neutral_cls = tf.maximum(tf.reduce_sum(non_neutral_mask, axis= -1), 1e-7)\n",
    "        cls_loss = tf.reduce_sum(cls_loss, axis= -1)/n_non_neutral_cls\n",
    "        cls_loss = tf.reduce_mean(cls_loss)\n",
    "        \n",
    "        print(cls_loss, reg_loss)\n",
    "        \n",
    "        return cls_loss + self.alpha*reg_loss\n"
   ]
  },
  {
   "cell_type": "code",
   "execution_count": 56,
   "metadata": {
    "scrolled": true
   },
   "outputs": [
    {
     "name": "stdout",
     "output_type": "stream",
     "text": [
      "tf.Tensor(0.0, shape=(), dtype=float32) tf.Tensor(0.0, shape=(), dtype=float32)\n"
     ]
    },
    {
     "data": {
      "text/plain": [
       "<tf.Tensor: shape=(), dtype=float32, numpy=0.0>"
      ]
     },
     "execution_count": 56,
     "metadata": {},
     "output_type": "execute_result"
    }
   ],
   "source": [
    "## test my code\n",
    "y_true = tf.zeros([4, 3, 6]) \n",
    "y_pred = tf.ones([4, 3, 6])\n",
    "loss = LossSSD(1)\n",
    "loss.compute_loss(y_true, y_pred)\n",
    "# the result is silly because my example is silly"
   ]
  },
  {
   "cell_type": "markdown",
   "metadata": {},
   "source": [
    "# IOU"
   ]
  },
  {
   "cell_type": "code",
   "execution_count": 41,
   "metadata": {},
   "outputs": [],
   "source": [
    "def IOU(boxesA, boxesB):\n",
    "    \"\"\"A, B is a numpy array of shape (batch, m, 4), (batch, n, 4) in corners form respectively\n",
    "    return a numpy array of length m*n \"\"\"\n",
    "    m, n = len(boxesA), len(boxesB)\n",
    "    \n",
    "    boxesA = np.tile(np.expand_dims(boxesA, axis= 1), reps= (1, n, 1))\n",
    "    side_len_A = boxesA[..., 2:] - boxesA[..., : 2]\n",
    "    boxesA_area = side_len_A[..., 0]*side_len_A[..., 1]\n",
    "    \n",
    "    boxesB = np.tile(np.expand_dims(boxesB, axis= 0), reps= (m, 1, 1))\n",
    "    side_len_B = boxesB[..., 2:] - boxesB[..., : 2]\n",
    "    boxesB_area = side_len_B[..., 0]*side_len_B[..., 1]\n",
    "    \n",
    "    \n",
    "#     boxesB = np.tile(boxesB, (m, 1))\n",
    "#     side_len_B = boxesB[:, 2:]- boxesB[:, :2]\n",
    "#     boxesB_area = side_len_B[:, 0]*side_len_B[:, 1]\n",
    "    \n",
    "    \n",
    "#     boxesA = np.repeat(boxesA, n, axis = 0)\n",
    "#     side_len_A = boxesA[:, 2:]- boxesA[:, :2]\n",
    "#     boxesA_area = side_len_A[:, 0]*side_len_A[:, 1]\n",
    "    \n",
    "    #calculate intersection of area (m, n)\n",
    "    xmin = np.maximum(boxesA[..., 0], boxesB[..., 0])\n",
    "    ymin = np.maximum(boxesA[..., 1], boxesB[..., 1])\n",
    "    xmax = np.minimum(boxesA[..., 2], boxesB[..., 2])\n",
    "    ymax = np.minimum(boxesA[..., 3], boxesB[..., 3])\n",
    "    \n",
    "    \n",
    "    intersect_areas = np.maximum(0, (xmax - xmin)*(ymax - ymin))\n",
    "#     print(boxesA_area, boxesB_area, intersect_areas)\n",
    "    iou = intersect_areas /(boxesA_area + boxesB_area - intersect_areas)\n",
    "    return iou\n",
    "\n"
   ]
  },
  {
   "cell_type": "code",
   "execution_count": 42,
   "metadata": {
    "scrolled": false
   },
   "outputs": [
    {
     "data": {
      "text/plain": [
       "array([[0.        ],\n",
       "       [0.08333333]])"
      ]
     },
     "execution_count": 42,
     "metadata": {},
     "output_type": "execute_result"
    }
   ],
   "source": [
    "###test my code\n",
    "ba = np.array([[0, 0, 2, 2], [0, 0, 3, 3]]).reshape(-1, 4)\n",
    "bb = np.array([ [2, 2, 4, 4]]).reshape(-1, 4)\n",
    "IOU(ba, bb)"
   ]
  },
  {
   "cell_type": "code",
   "execution_count": 55,
   "metadata": {
    "scrolled": true
   },
   "outputs": [],
   "source": [
    "def convert_coords(bbs, kind):\n",
    "    \"\"\"kind : between centroids, corners and topleft\n",
    "       bb1: in 2D numpy array\"\"\"\n",
    "    bb1 = np.zeros_like(bbs)\n",
    "    \n",
    "    if kind == 'centroids_to_corners':\n",
    "        x, y, w, h = bbs[..., 0], bbs[..., 1], bbs[..., 2], bbs[..., 3]\n",
    "        bb1[..., 0] = x - w/2\n",
    "        bb1[..., 1] = y - h/2\n",
    "        bb1[..., 2] = x + w/2\n",
    "        bb1[..., 3] = y + h/2\n",
    "    \n",
    "    elif kind == 'corners_to_centroids':\n",
    "        xmin, ymin, xmax, ymax = bbs[..., 0], bbs[..., 1], bbs[..., 2], bbs[..., 3]\n",
    "        bb1[..., 0] = (xmin + xmax)/2\n",
    "        bb1[..., 1] = (ymin + ymax)/2\n",
    "        bb1[..., 2] = xmax - xmin\n",
    "        bb1[..., 3] = ymax - ymin\n",
    "    \n",
    "    elif kind == 'centroids_to_topleft':\n",
    "        x, y, w, h = bbs[..., 0], bbs[..., 1], bbs[..., 2], bbs[..., 3]\n",
    "        bb1[..., 0] = x - w/2\n",
    "        bb1[..., 1] = y - h/2\n",
    "        bb1[..., 2] = w\n",
    "        bb1[..., 3] = h\n",
    "    \n",
    "    elif kind == 'topleft_to_centroids':\n",
    "        xmin, ymin, w, h = bbs[..., 0], bbs[..., 1], bbs[..., 2], bbs[..., 3]\n",
    "        bb1[..., 0] = xmin + w/2\n",
    "        bb1[..., 1] = ymin + h/2\n",
    "        bb1[..., 2] = w\n",
    "        bb1[..., 3] = h\n",
    "        \n",
    "    elif kind == 'topleft_to_corners':\n",
    "        xmin, ymin, w, h = bbs[..., 0], bbs[..., 1], bbs[..., 2], bbs[..., 3]\n",
    "        bb1[..., 0] = xmin \n",
    "        bb1[..., 1] = ymin \n",
    "        bb1[..., 2] = xmin + w\n",
    "        bb1[..., 3] = ymin + h\n",
    "    \n",
    "    elif kind == 'corners_to_topleft':\n",
    "        xmin, ymin, xmax, ymax = bbs[..., 0], bbs[..., 1], bbs[..., 2], bbs[..., 3]\n",
    "        bb1[..., 0] = xmin \n",
    "        bb1[..., 1] = ymin \n",
    "        bb1[..., 2] = xmax - xmin\n",
    "        bb1[..., 3] = ymax - ymin\n",
    "    else: raise ValueError('kind is not supported')\n",
    "    \n",
    "#     assert not np.min(bb1) < 0, 'value of an bb can be smaller than 0' \n",
    "    return bb1"
   ]
  },
  {
   "cell_type": "code",
   "execution_count": 54,
   "metadata": {},
   "outputs": [
    {
     "name": "stdout",
     "output_type": "stream",
     "text": [
      "topleft_to_corners\n",
      "[[0 0 2 2]]\n"
     ]
    }
   ],
   "source": [
    "### test code\n",
    "bb = np.array([[0, 0, 2, 2]])\n",
    "print('topleft_to_corners')\n",
    "print(convert_coords(bb, kind= 'topleft_to_corners'))\n"
   ]
  },
  {
   "cell_type": "code",
   "execution_count": 1,
   "metadata": {},
   "outputs": [],
   "source": [
    "### only used for drawing\n",
    "def convert_type(bb, kind, image_shape):\n",
    "    \"\"\"bb is an array of any form centroids, corners, topleft\n",
    "       kind: between absolute pixel values or relative in range [0, 1]\"\"\"\n",
    "    w, h = image_shape\n",
    "    box_scale = np.array([w,h, w, h])\n",
    "    \n",
    "    if kind == 'abs2rel':\n",
    "        return np.array(bb/ box_scale)\n",
    "    elif kind == 'rel2abs':\n",
    "        return np.array(bb*box_scale)\n",
    "    else: raise ValueError('your kind is not supported')"
   ]
  },
  {
   "cell_type": "code",
   "execution_count": 6,
   "metadata": {},
   "outputs": [
    {
     "name": "stdout",
     "output_type": "stream",
     "text": [
      "relative : [0.25  0.375 0.5   0.625]\n",
      "absolute : [2. 3. 4. 5.]\n"
     ]
    }
   ],
   "source": [
    "##test code\n",
    "image_shape = (8, 8)\n",
    "bb = np.array([2,3, 4, 5])\n",
    "a = convert_types(bb, kind = 'abs2rel', image_shape = image_shape) \n",
    "print('relative : {}'.format(a))\n",
    "a = convert_types(a, kind = 'rel2abs', image_shape = image_shape) \n",
    "print('absolute : {}'.format(a))"
   ]
  },
  {
   "cell_type": "code",
   "execution_count": null,
   "metadata": {},
   "outputs": [],
   "source": []
  }
 ],
 "metadata": {
  "kernelspec": {
   "display_name": "Python 3",
   "language": "python",
   "name": "python3"
  },
  "language_info": {
   "codemirror_mode": {
    "name": "ipython",
    "version": 3
   },
   "file_extension": ".py",
   "mimetype": "text/x-python",
   "name": "python",
   "nbconvert_exporter": "python",
   "pygments_lexer": "ipython3",
   "version": "3.6.9"
  }
 },
 "nbformat": 4,
 "nbformat_minor": 4
}
